{
 "cells": [
  {
   "cell_type": "markdown",
   "id": "b20c5cb2-21d6-47e9-80bd-713ed42b2c6b",
   "metadata": {},
   "source": [
    "**Extract text from PDF**"
   ]
  },
  {
   "cell_type": "code",
   "execution_count": 1,
   "id": "b724a2e2-906e-4a7b-8ef7-49d21d8cf90f",
   "metadata": {},
   "outputs": [],
   "source": [
    "from pdf2image import convert_from_path\n",
    "\n",
    "## I will provide the pdfs used in this project in my portfolio! ##"
   ]
  },
  {
   "cell_type": "code",
   "execution_count": 2,
   "id": "6675747d-2e45-4e30-84d7-26b9bbcdc025",
   "metadata": {},
   "outputs": [],
   "source": [
    "pages = convert_from_path('C:\\\\Users\\\\miker\\\\Medical_Project\\\\Backend\\\\Notebooks\\\\docs\\\\prescription\\\\pre_1.pdf', poppler_path='C:\\\\Users\\\\miker\\\\poppler-23.08.0\\\\Library\\\\bin')\n",
    "\n",
    "## We set a variable, pages, which is our first prescription PDF. We need to use Poppler to make this work, so its path is defined as well. ##"
   ]
  },
  {
   "cell_type": "code",
   "execution_count": 6,
   "id": "86bb14c2-9c36-4557-aa82-ace3d36ffe4b",
   "metadata": {},
   "outputs": [],
   "source": [
    "pages[0].show()\n",
    "\n",
    "## We open pages (in another window, so not visible here) to double check. ##"
   ]
  },
  {
   "cell_type": "code",
   "execution_count": 7,
   "id": "117a2381-7e8d-4132-a047-d15cd1fc7183",
   "metadata": {},
   "outputs": [],
   "source": [
    "import pytesseract"
   ]
  },
  {
   "cell_type": "code",
   "execution_count": 9,
   "id": "897cef01-dbec-4fc8-b4b9-6e0ddccee6b6",
   "metadata": {},
   "outputs": [
    {
     "name": "stdout",
     "output_type": "stream",
     "text": [
      "Dr John Smith, M.D\n",
      "2 Non-Important Street,\n",
      "New York, Phone (000)-111-2222\n",
      "\n",
      "Name: Maria Sharapova Date: 5/11/2022\n",
      "\n",
      "Address: 9 tennis court, new Russia, DC\n",
      "\n",
      "—moemenmannenneneneunmnnnnennieesisiyoinnitniahadaaanniihsnseneneneeeernnttnnneenrenen:\n",
      "\n",
      "Prednisone 20 mg\n",
      "Lialda 2.4 gram\n",
      "\n",
      "3 days,\n",
      "\n",
      "or 1 month\n",
      "\n"
     ]
    }
   ],
   "source": [
    "## We need to print our imported image as text. This requires tesseract. ##\n",
    "\n",
    "pytesseract.pytesseract.tesseract_cmd=r'C:\\\\Program Files\\\\Tesseract-OCR\\\\tesseract.exe'\n",
    "text = pytesseract.image_to_string(pages[0], lang='eng')\n",
    "print(text)\n",
    "\n",
    "## Because there is a shadow on the image, we do not get all the data, as Tesseract is using simple thresholding to transcribe. ##\n",
    "## We can fix this through a process called adaptive thresholding, essentially changing the degree of color needed to transcribe the values. ##"
   ]
  },
  {
   "cell_type": "code",
   "execution_count": 11,
   "id": "83a91e46-f93f-4d38-874f-b9deccb599e1",
   "metadata": {},
   "outputs": [],
   "source": [
    "## Prior to this, please see the cv_concepts notebook to see how we tested adaptive thresholding!! ##\n",
    "\n",
    "import numpy as np\n",
    "import cv2\n",
    "from PIL import Image\n",
    "\n",
    "def preprocess_image(img):\n",
    "    gray = cv2.cvtColor(np.array(img), cv2.COLOR_BGR2GRAY)\n",
    "    resized = cv2.resize(gray, None, fx=1.5, fy=1.5, interpolation=cv2.INTER_LINEAR)\n",
    "    processed_image = cv2.adaptiveThreshold(\n",
    "        resized, 255,\n",
    "        cv2.ADAPTIVE_THRESH_GAUSSIAN_C,\n",
    "        cv2.THRESH_BINARY,\n",
    "        61,\n",
    "        11\n",
    "    )\n",
    "    return processed_image\n",
    "\n",
    "## We create a function to process the image. we must also enter arguments for resizing it. Then we use what we learned when we tested our adaptive threshold in the cv_concepts notebook ##"
   ]
  },
  {
   "cell_type": "code",
   "execution_count": 13,
   "id": "34a068f2-14e7-421a-a70e-4f79fbf7d462",
   "metadata": {},
   "outputs": [],
   "source": [
    "img = preprocess_image(pages[0])\n",
    "Image.fromarray(img).show()"
   ]
  },
  {
   "cell_type": "code",
   "execution_count": 14,
   "id": "4e25ba0e-e20d-4950-b82b-52b88d2867b3",
   "metadata": {},
   "outputs": [
    {
     "name": "stdout",
     "output_type": "stream",
     "text": [
      "Dr John Smith, M.D\n",
      "2 Non-Important Street,\n",
      "New York, Phone (000)-111-2222\n",
      "\n",
      "Name: Marta Sharapova Date: 5/11/2022\n",
      "\n",
      "Address: 9 tennis court, new Russia, DC\n",
      "\n",
      "K\n",
      "\n",
      "Prednisone 20 mg\n",
      "Lialda 2.4 gram\n",
      "\n",
      "Directions:\n",
      "\n",
      "Prednisone, Taper 5 mig every 3 days,\n",
      "Finish in 2.5 weeks a\n",
      "Lialda - take 2 pill everyday for 1 month\n",
      "\n",
      "Refill: 2 times\n",
      "\n"
     ]
    }
   ],
   "source": [
    "pytesseract.pytesseract.tesseract_cmd=r'C:\\\\Program Files\\\\Tesseract-OCR\\\\tesseract.exe'\n",
    "text = pytesseract.image_to_string(img, lang='eng')\n",
    "print(text)\n",
    "\n",
    "## It worked!! ##"
   ]
  }
 ],
 "metadata": {
  "kernelspec": {
   "display_name": "Python 3 (ipykernel)",
   "language": "python",
   "name": "python3"
  },
  "language_info": {
   "codemirror_mode": {
    "name": "ipython",
    "version": 3
   },
   "file_extension": ".py",
   "mimetype": "text/x-python",
   "name": "python",
   "nbconvert_exporter": "python",
   "pygments_lexer": "ipython3",
   "version": "3.11.5"
  }
 },
 "nbformat": 4,
 "nbformat_minor": 5
}
