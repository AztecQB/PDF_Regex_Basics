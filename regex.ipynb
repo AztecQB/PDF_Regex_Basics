{
 "cells": [
  {
   "cell_type": "markdown",
   "id": "67101f61-01d3-4dcf-b13f-c2ff0ecef0a5",
   "metadata": {},
   "source": [
    "**Importing and practicing regular expression (Regex)**"
   ]
  },
  {
   "cell_type": "code",
   "execution_count": 1,
   "id": "07d06932-71da-4a25-95f3-6706a7d364c2",
   "metadata": {},
   "outputs": [],
   "source": [
    "import re"
   ]
  },
  {
   "cell_type": "code",
   "execution_count": 5,
   "id": "992580b3-b7e0-4cca-a7c9-2cd8703a7a3f",
   "metadata": {},
   "outputs": [
    {
     "data": {
      "text/plain": [
       "['7321119999', '120']"
      ]
     },
     "execution_count": 5,
     "metadata": {},
     "output_type": "execute_result"
    }
   ],
   "source": [
    "text = \"Patient's phone is 7321119999. Bill amount is 120$\"\n",
    "pattern = '\\d+'\n",
    "\n",
    "match = re.findall(pattern, text)\n",
    "match\n",
    "\n",
    "## Let's make sure our regular expression is proper, so we pull patient number and bill from a string of text! ##"
   ]
  },
  {
   "cell_type": "code",
   "execution_count": 6,
   "id": "caf6263f-cad3-4b76-aea3-f39f3b77ac14",
   "metadata": {},
   "outputs": [
    {
     "data": {
      "text/plain": [
       "['7321119999']"
      ]
     },
     "execution_count": 6,
     "metadata": {},
     "output_type": "execute_result"
    }
   ],
   "source": [
    "text = \"Patient's phone is 7321119999. Bill amount is 120$\"\n",
    "pattern = '\\d{10}'\n",
    "\n",
    "match = re.findall(pattern, text)\n",
    "match\n",
    "\n",
    "## Regex if we just want a phone number. We use this pattern as a phone number is 10 digits. ##"
   ]
  },
  {
   "cell_type": "markdown",
   "id": "2a35d6de-3112-49b8-9fe5-c5b1659a6d33",
   "metadata": {},
   "source": [
    "**What if phone number has a bracket and hypens?**"
   ]
  },
  {
   "cell_type": "code",
   "execution_count": 12,
   "id": "0d8a22cb-cb6d-4076-8862-5264644fc846",
   "metadata": {},
   "outputs": [
    {
     "data": {
      "text/plain": [
       "['(732)-111-9999', '7143093209']"
      ]
     },
     "execution_count": 12,
     "metadata": {},
     "output_type": "execute_result"
    }
   ],
   "source": [
    "## With the help of regex101.com, we learn we need the regex of \\(\\d{3}\\)-\\d{3}-\\d{d}|\\d{10} ##\n",
    "\n",
    "text = \"Patient's phone is (732)-111-9999. Emergency contact is 7143093209 Bill amount is 120$\"\n",
    "pattern = '\\(\\d{3}\\)-\\d{3}-\\d{4}|\\d{10}'\n",
    "\n",
    "match = re.findall(pattern, text)\n",
    "match"
   ]
  },
  {
   "cell_type": "markdown",
   "id": "d31a5a4b-3356-4516-8d96-466a645a77b0",
   "metadata": {},
   "source": [
    "**Extracting phone number and bill separately**"
   ]
  },
  {
   "cell_type": "code",
   "execution_count": 18,
   "id": "fda8260a-44bb-4108-9575-cdd2deb1bd15",
   "metadata": {},
   "outputs": [
    {
     "data": {
      "text/plain": [
       "<re.Match object; span=(19, 50), match='7321119999. Bill amount is 120$'>"
      ]
     },
     "execution_count": 18,
     "metadata": {},
     "output_type": "execute_result"
    }
   ],
   "source": [
    "## To group, we simply add brackets around each expression and make an exception for the text between number and bill. ##\n",
    "## This can be changed if our data is formatted differently, but for the sake of this exercise, we know it will be (number)(text)(amount$) ##\n",
    "\n",
    "text = \"Patient's phone is 7321119999. Bill amount is 120$\"\n",
    "pattern = '(\\d{10})\\D+(\\d+)\\$'\n",
    "\n",
    "match = re.search(pattern, text)\n",
    "match"
   ]
  },
  {
   "cell_type": "code",
   "execution_count": 19,
   "id": "18f073bc-4d01-4868-95fa-cfb0caa37d33",
   "metadata": {},
   "outputs": [],
   "source": [
    "phone_number, bill_amount = match.groups()\n",
    "\n",
    "## We set variables for our phone number and bill amounts. ##"
   ]
  },
  {
   "cell_type": "code",
   "execution_count": 21,
   "id": "a2554c7a-9e0b-4ec9-811f-df090b32c702",
   "metadata": {},
   "outputs": [],
   "source": [
    "text = '''\n",
    "Name: Marta Sharapova Date: 5/11/2022\n",
    "\n",
    "Address: 9 tennis court, new Russia, DC\n",
    "\n",
    "Prednisone 20 mg\n",
    "Lialda 2.4 gram\n",
    "\n",
    "Directions:\n",
    "\n",
    "Prednisone, Taper 5 mg every 3 days,\n",
    "Finish in 2.5 weeks a\n",
    "Lialda - take 2 pill everyday for 1 month\n",
    "\n",
    "Refill: 2 times\n",
    "'''\n",
    "\n",
    "## We import the text from our prescription parser. We will strip out the various categories. ##"
   ]
  },
  {
   "cell_type": "code",
   "execution_count": 22,
   "id": "08a52c61-fe76-4d1b-9061-4a1378de5973",
   "metadata": {},
   "outputs": [
    {
     "data": {
      "text/plain": [
       "'Marta Sharapova'"
      ]
     },
     "execution_count": 22,
     "metadata": {},
     "output_type": "execute_result"
    }
   ],
   "source": [
    "pattern = \"Name:(.*)Date\"\n",
    "\n",
    "match = re.findall(pattern, text)\n",
    "match[0].strip()"
   ]
  },
  {
   "cell_type": "code",
   "execution_count": 23,
   "id": "5f1f8fe0-103e-4418-a790-57da808991bb",
   "metadata": {},
   "outputs": [
    {
     "data": {
      "text/plain": [
       "'9 tennis court, new Russia, DC'"
      ]
     },
     "execution_count": 23,
     "metadata": {},
     "output_type": "execute_result"
    }
   ],
   "source": [
    "pattern = \"Address:(.*)\\n\"\n",
    "match = re.findall(pattern, text)\n",
    "match[0].strip()"
   ]
  },
  {
   "cell_type": "code",
   "execution_count": 25,
   "id": "08b61983-933e-43cb-95a3-813e651c10f4",
   "metadata": {},
   "outputs": [
    {
     "name": "stdout",
     "output_type": "stream",
     "text": [
      "Prednisone 20 mg\n",
      "Lialda 2.4 gram\n"
     ]
    }
   ],
   "source": [
    "pattern = \"Address[^\\n]*(.*)Directions\"\n",
    "match = re.findall(pattern, text, flags = re.DOTALL)\n",
    "print(match[0].strip())\n",
    "\n",
    "## Because we needed to parse multiple lines, we needed to update our .findall() argument. ##"
   ]
  },
  {
   "cell_type": "code",
   "execution_count": null,
   "id": "e02927c7-a180-4780-a6ff-8fe3fa2a827f",
   "metadata": {},
   "outputs": [],
   "source": []
  }
 ],
 "metadata": {
  "kernelspec": {
   "display_name": "Python 3 (ipykernel)",
   "language": "python",
   "name": "python3"
  },
  "language_info": {
   "codemirror_mode": {
    "name": "ipython",
    "version": 3
   },
   "file_extension": ".py",
   "mimetype": "text/x-python",
   "name": "python",
   "nbconvert_exporter": "python",
   "pygments_lexer": "ipython3",
   "version": "3.11.5"
  }
 },
 "nbformat": 4,
 "nbformat_minor": 5
}
