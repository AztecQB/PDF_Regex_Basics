{
 "cells": [
  {
   "cell_type": "code",
   "execution_count": 1,
   "id": "236d28e5-1549-4abe-b15c-4984a0789d04",
   "metadata": {},
   "outputs": [],
   "source": [
    "import cv2\n",
    "from PIL import Image\n",
    "\n",
    "## We have split the prescription into two .jpg files. clear_image and dark_image. ##"
   ]
  },
  {
   "cell_type": "code",
   "execution_count": 11,
   "id": "07247ef4-2458-4552-a68e-23b99c1d9ed0",
   "metadata": {},
   "outputs": [
    {
     "data": {
      "text/plain": [
       "array([[206, 206, 206, ..., 185, 185, 185],\n",
       "       [206, 206, 206, ..., 185, 185, 185],\n",
       "       [206, 206, 206, ..., 186, 185, 185],\n",
       "       ...,\n",
       "       [207, 207, 207, ..., 191, 190, 190],\n",
       "       [207, 207, 207, ..., 191, 190, 190],\n",
       "       [207, 207, 207, ..., 191, 191, 190]], dtype=uint8)"
      ]
     },
     "execution_count": 11,
     "metadata": {},
     "output_type": "execute_result"
    }
   ],
   "source": [
    "img_clear = cv2.imread('C:\\\\Users\\\\miker\\\\Medical_Project\\\\Backend\\\\Notebooks\\\\clear_image.jpg', flags =cv2.IMREAD_GRAYSCALE)\n",
    "img_clear\n",
    "\n",
    "## We use Pillow to pull an image of the prescription and convert it to a NumPy array of color codes. 0 is black, 255 is white, and the numbers are on a scale in between. ##"
   ]
  },
  {
   "cell_type": "code",
   "execution_count": 26,
   "id": "573523cb-ba80-43a3-8f25-a38d8577e281",
   "metadata": {},
   "outputs": [],
   "source": [
    "_, new_img_clear = cv2.threshold(img_clear, 150,255, cv2.THRESH_BINARY)\n",
    "Image.fromarray(new_img_clear).show()\n",
    "\n",
    "## Let's set some new black/white limits and see how it looks on our .jpg file! This requires some trial and error when checking thresholds. ##"
   ]
  },
  {
   "cell_type": "code",
   "execution_count": 25,
   "id": "fcc1dae0-4013-4a77-97f6-ead3c1089ad8",
   "metadata": {},
   "outputs": [
    {
     "data": {
      "text/plain": [
       "array([[206, 206, 206, ..., 187, 186, 184],\n",
       "       [206, 206, 206, ..., 186, 185, 185],\n",
       "       [206, 206, 206, ..., 186, 185, 185],\n",
       "       ...,\n",
       "       [162, 157, 152, ..., 184, 184, 184],\n",
       "       [160, 156, 152, ..., 184, 184, 184],\n",
       "       [156, 158, 158, ..., 184, 184, 184]], dtype=uint8)"
      ]
     },
     "execution_count": 25,
     "metadata": {},
     "output_type": "execute_result"
    }
   ],
   "source": [
    "img = cv2.imread('C:\\\\Users\\\\miker\\\\Medical_Project\\\\Backend\\\\Notebooks\\\\dark_image.jpg', flags =cv2.IMREAD_GRAYSCALE)\n",
    "img"
   ]
  },
  {
   "cell_type": "code",
   "execution_count": 20,
   "id": "3774be5b-4acb-4134-99bb-788a0d10a52a",
   "metadata": {},
   "outputs": [],
   "source": [
    "_, new_img = cv2.threshold(img, 150,255, cv2.THRESH_BINARY)\n",
    "Image.fromarray(new_img).show()\n",
    "\n",
    "## Despite our success, if we replace the clear image with the dark_image.jpg in this code, we see this does not work. We will need to use adaptive thresholding. ##"
   ]
  },
  {
   "cell_type": "code",
   "execution_count": 27,
   "id": "ae13ae42-9f8c-48e7-94ee-7a5fe519b989",
   "metadata": {},
   "outputs": [],
   "source": [
    "new_img = cv2.adaptiveThreshold(\n",
    "    img, 255,\n",
    "    cv2.ADAPTIVE_THRESH_GAUSSIAN_C,\n",
    "    cv2.THRESH_BINARY,\n",
    "    61,\n",
    "    11\n",
    ")\n",
    "Image.fromarray(new_img).show() ## Displays image ##\n",
    "\n",
    "## We have to go through the process of creating our threshold. We need to select which zones are given which thresholds, set them to be binary, and create block sizes. ##\n",
    "## After some trial and error, the above code works!! ##"
   ]
  },
  {
   "cell_type": "code",
   "execution_count": null,
   "id": "bc04777f-b43f-4233-9ab5-60ed3e247302",
   "metadata": {},
   "outputs": [],
   "source": []
  }
 ],
 "metadata": {
  "kernelspec": {
   "display_name": "Python 3 (ipykernel)",
   "language": "python",
   "name": "python3"
  },
  "language_info": {
   "codemirror_mode": {
    "name": "ipython",
    "version": 3
   },
   "file_extension": ".py",
   "mimetype": "text/x-python",
   "name": "python",
   "nbconvert_exporter": "python",
   "pygments_lexer": "ipython3",
   "version": "3.11.5"
  }
 },
 "nbformat": 4,
 "nbformat_minor": 5
}
